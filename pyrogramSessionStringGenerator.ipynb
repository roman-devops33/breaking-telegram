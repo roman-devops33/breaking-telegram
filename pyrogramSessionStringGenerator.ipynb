{
  "nbformat": 4,
  "nbformat_minor": 0,
  "metadata": {
    "colab": {
      "provenance": []
    },
    "kernelspec": {
      "name": "python3",
      "display_name": "Python 3"
    },
    "language_info": {
      "name": "python"
    }
  },
  "cells": [
    {
      "cell_type": "markdown",
      "source": [
        "# Importing a librarys"
      ],
      "metadata": {
        "id": "rwhUapua3XQX"
      }
    },
    {
      "cell_type": "code",
      "execution_count": null,
      "metadata": {
        "id": "N-86o3oOiZHo"
      },
      "outputs": [],
      "source": [
        "!pip install Pyrogram==2.0.106\n",
        "!pip install TgCrypto==1.2.5"
      ]
    },
    {
      "cell_type": "markdown",
      "source": [
        "# Get string"
      ],
      "metadata": {
        "id": "Rgrt7SaF3844"
      }
    },
    {
      "cell_type": "code",
      "source": [
        "#@title Go { display-mode: \"form\" }\n",
        "#@markdown ### Go to https://my.telegram.org/apps and get id and hash:\n",
        "#@markdown Enter Telegram api id:\n",
        "import asyncio\n",
        "from pyrogram import Client\n",
        "api_id = \"\" #@param {type:\"string\"}\n",
        "#@markdown Enter Telegram api hash:\n",
        "api_hash = '' #@param {type:\"string\"}\n",
        "#@markdown Enter any name:\n",
        "name = 'pyrogram' #@param {type:\"string\"}\n",
        "async def main():\n",
        "  async with Client(name, api_id=api_id, api_hash=api_hash) as app:\n",
        "    print(api_id)\n",
        "    await app.send_message(\n",
        "        \"me\",\n",
        "        \"**Pyrogram Session String**:\\n\\n\"\n",
        "        f\"`{await app.export_session_string()}`\"\n",
        "      )\n",
        "\n",
        "await main()\n"
      ],
      "metadata": {
        "id": "8_F3EWpyj954"
      },
      "execution_count": null,
      "outputs": []
    }
  ]
}